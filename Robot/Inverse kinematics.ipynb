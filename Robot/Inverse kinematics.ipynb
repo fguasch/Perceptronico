{
 "cells": [
  {
   "cell_type": "code",
   "execution_count": 4,
   "metadata": {},
   "outputs": [],
   "source": [
    "import numpy as np \n",
    "import sympy as sp\n",
    "from sympy import *\n",
    "from sympy.physics.vector import init_vprinting\n",
    "init_vprinting(use_latex='mathjax', pretty_print=False)\n",
    "\n",
    "from sympy.physics.mechanics import dynamicsymbols"
   ]
  },
  {
   "cell_type": "code",
   "execution_count": 5,
   "metadata": {},
   "outputs": [
    {
     "data": {
      "text/latex": [
       "$\\displaystyle \\left( \\theta_{1}, \\  \\theta_{2}, \\  l_{1}, \\  l_{2}, \\  \\theta, \\  \\alpha, \\  a, \\  d\\right)$"
      ],
      "text/plain": [
       "(theta1, theta2, l1, l2, theta, alpha, a, d)"
      ]
     },
     "execution_count": 5,
     "metadata": {},
     "output_type": "execute_result"
    }
   ],
   "source": [
    "from sympy.physics.mechanics import dynamicsymbols\n",
    "theta1, theta2, l1, l2, theta, alpha, a, d = dynamicsymbols('theta1 theta2 l1 l2 theta alpha a d')\n",
    "theta1, theta2, l1, l2, theta, alpha, a, d "
   ]
  },
  {
   "cell_type": "code",
   "execution_count": 6,
   "metadata": {},
   "outputs": [
    {
     "data": {
      "text/latex": [
       "$\\displaystyle \\left[\\begin{matrix}\\operatorname{cos}\\left(\\theta\\right) & - \\operatorname{sin}\\left(\\theta\\right) \\operatorname{cos}\\left(\\alpha\\right) & \\operatorname{sin}\\left(\\alpha\\right) \\operatorname{sin}\\left(\\theta\\right) & a \\operatorname{cos}\\left(\\theta\\right)\\\\\\operatorname{sin}\\left(\\theta\\right) & \\operatorname{cos}\\left(\\alpha\\right) \\operatorname{cos}\\left(\\theta\\right) & - \\operatorname{sin}\\left(\\alpha\\right) \\operatorname{cos}\\left(\\theta\\right) & a \\operatorname{sin}\\left(\\theta\\right)\\\\0 & \\operatorname{sin}\\left(\\alpha\\right) & \\operatorname{cos}\\left(\\alpha\\right) & d\\\\0 & 0 & 0 & 1\\end{matrix}\\right]$"
      ],
      "text/plain": [
       "Matrix([\n",
       "[cos(theta), -sin(theta)*cos(alpha),  sin(alpha)*sin(theta), a*cos(theta)],\n",
       "[sin(theta),  cos(alpha)*cos(theta), -sin(alpha)*cos(theta), a*sin(theta)],\n",
       "[         0,             sin(alpha),             cos(alpha),            d],\n",
       "[         0,                      0,                      0,            1]])"
      ]
     },
     "execution_count": 6,
     "metadata": {},
     "output_type": "execute_result"
    }
   ],
   "source": [
    "rot = sp.Matrix([[sp.cos(theta), -sp.sin(theta)*sp.cos(alpha), sp.sin(theta)*sp.sin(alpha)],\n",
    "                 [sp.sin(theta), sp.cos(theta)*sp.cos(alpha), -sp.cos(theta)*sp.sin(alpha)],\n",
    "                 [0, sp.sin(alpha), sp.cos(alpha)]])\n",
    "\n",
    "trans = sp.Matrix([a*sp.cos(theta),a*sp.sin(theta),d])\n",
    "\n",
    "last_row = sp.Matrix([[0, 0, 0, 1]])\n",
    "\n",
    "m = sp.Matrix.vstack(sp.Matrix.hstack(rot, trans), last_row)\n",
    "m"
   ]
  },
  {
   "cell_type": "code",
   "execution_count": 7,
   "metadata": {},
   "outputs": [
    {
     "data": {
      "text/latex": [
       "$\\displaystyle \\left[\\begin{matrix}\\operatorname{cos}\\left(\\theta_{1}\\right) & - 6.12323399573677 \\cdot 10^{-17} \\operatorname{sin}\\left(\\theta_{1}\\right) & 1.0 \\operatorname{sin}\\left(\\theta_{1}\\right) & 0\\\\\\operatorname{sin}\\left(\\theta_{1}\\right) & 6.12323399573677 \\cdot 10^{-17} \\operatorname{cos}\\left(\\theta_{1}\\right) & - 1.0 \\operatorname{cos}\\left(\\theta_{1}\\right) & 0\\\\0 & 1.0 & 6.12323399573677 \\cdot 10^{-17} & l_{1}\\\\0 & 0 & 0 & 1\\end{matrix}\\right]$"
      ],
      "text/plain": [
       "Matrix([\n",
       "[cos(theta1), -6.12323399573677e-17*sin(theta1),      1.0*sin(theta1),  0],\n",
       "[sin(theta1),  6.12323399573677e-17*cos(theta1),     -1.0*cos(theta1),  0],\n",
       "[          0,                               1.0, 6.12323399573677e-17, l1],\n",
       "[          0,                                 0,                    0,  1]])"
      ]
     },
     "execution_count": 7,
     "metadata": {},
     "output_type": "execute_result"
    }
   ],
   "source": [
    "m01 = m.subs({ theta:theta1, d:l1, a:0 , alpha:90*np.pi/180})\n",
    "m01"
   ]
  },
  {
   "cell_type": "code",
   "execution_count": 8,
   "metadata": {},
   "outputs": [
    {
     "data": {
      "text/latex": [
       "$\\displaystyle \\left[\\begin{matrix}\\operatorname{cos}\\left(\\theta_{1}\\right) & 0 & 1.0 \\operatorname{sin}\\left(\\theta_{1}\\right) & 0\\\\\\operatorname{sin}\\left(\\theta_{1}\\right) & 0 & - 1.0 \\operatorname{cos}\\left(\\theta_{1}\\right) & 0\\\\0 & 1.0 & 0 & l_{1}\\\\0 & 0 & 0 & 1\\end{matrix}\\right]$"
      ],
      "text/plain": [
       "Matrix([\n",
       "[cos(theta1),   0,  1.0*sin(theta1),  0],\n",
       "[sin(theta1),   0, -1.0*cos(theta1),  0],\n",
       "[          0, 1.0,                0, l1],\n",
       "[          0,   0,                0,  1]])"
      ]
     },
     "execution_count": 8,
     "metadata": {},
     "output_type": "execute_result"
    }
   ],
   "source": [
    "m01[0,1] = 0\n",
    "m01[1,1] = 0\n",
    "m01[2,2] = 0\n",
    "m01"
   ]
  },
  {
   "cell_type": "code",
   "execution_count": 9,
   "metadata": {},
   "outputs": [
    {
     "data": {
      "text/latex": [
       "$\\displaystyle \\left[\\begin{matrix}\\operatorname{cos}\\left(\\theta_{2}\\right) & - \\operatorname{sin}\\left(\\theta_{2}\\right) & 0 & l_{2} \\operatorname{cos}\\left(\\theta_{2}\\right)\\\\\\operatorname{sin}\\left(\\theta_{2}\\right) & \\operatorname{cos}\\left(\\theta_{2}\\right) & 0 & l_{2} \\operatorname{sin}\\left(\\theta_{2}\\right)\\\\0 & 0 & 1.0 & 0\\\\0 & 0 & 0 & 1.0\\end{matrix}\\right]$"
      ],
      "text/plain": [
       "Matrix([\n",
       "[cos(theta2), -sin(theta2),   0, l2*cos(theta2)],\n",
       "[sin(theta2),  cos(theta2),   0, l2*sin(theta2)],\n",
       "[          0,            0, 1.0,              0],\n",
       "[          0,            0,   0,            1.0]])"
      ]
     },
     "execution_count": 9,
     "metadata": {},
     "output_type": "execute_result"
    }
   ],
   "source": [
    "m12  = m.subs({ theta:theta2, d:0,a:l2 ,alpha:0})\n",
    "N(m12,2)"
   ]
  },
  {
   "cell_type": "code",
   "execution_count": 10,
   "metadata": {},
   "outputs": [
    {
     "data": {
      "text/latex": [
       "$\\displaystyle \\left[\\begin{matrix}\\operatorname{cos}\\left(\\theta_{1}\\right) \\operatorname{cos}\\left(\\theta_{2}\\right) & - \\operatorname{sin}\\left(\\theta_{2}\\right) \\operatorname{cos}\\left(\\theta_{1}\\right) & 1.0 \\operatorname{sin}\\left(\\theta_{1}\\right) & l_{2} \\operatorname{cos}\\left(\\theta_{1}\\right) \\operatorname{cos}\\left(\\theta_{2}\\right)\\\\\\operatorname{sin}\\left(\\theta_{1}\\right) \\operatorname{cos}\\left(\\theta_{2}\\right) & - \\operatorname{sin}\\left(\\theta_{1}\\right) \\operatorname{sin}\\left(\\theta_{2}\\right) & - 1.0 \\operatorname{cos}\\left(\\theta_{1}\\right) & l_{2} \\operatorname{sin}\\left(\\theta_{1}\\right) \\operatorname{cos}\\left(\\theta_{2}\\right)\\\\1.0 \\operatorname{sin}\\left(\\theta_{2}\\right) & 1.0 \\operatorname{cos}\\left(\\theta_{2}\\right) & 0 & l_{1} + 1.0 l_{2} \\operatorname{sin}\\left(\\theta_{2}\\right)\\\\0 & 0 & 0 & 1\\end{matrix}\\right]$"
      ],
      "text/plain": [
       "Matrix([\n",
       "[cos(theta1)*cos(theta2), -sin(theta2)*cos(theta1),  1.0*sin(theta1), l2*cos(theta1)*cos(theta2)],\n",
       "[sin(theta1)*cos(theta2), -sin(theta1)*sin(theta2), -1.0*cos(theta1), l2*sin(theta1)*cos(theta2)],\n",
       "[        1.0*sin(theta2),          1.0*cos(theta2),                0,    l1 + 1.0*l2*sin(theta2)],\n",
       "[                      0,                        0,                0,                          1]])"
      ]
     },
     "execution_count": 10,
     "metadata": {},
     "output_type": "execute_result"
    }
   ],
   "source": [
    "m03 = (m01*m12)\n",
    "m03"
   ]
  },
  {
   "cell_type": "code",
   "execution_count": 11,
   "metadata": {},
   "outputs": [
    {
     "data": {
      "text/latex": [
       "$\\displaystyle \\left[\\begin{matrix}\\operatorname{cos}\\left(\\theta_{1}\\right) \\operatorname{cos}\\left(\\theta_{2}\\right) & - \\operatorname{sin}\\left(\\theta_{2}\\right) \\operatorname{cos}\\left(\\theta_{1}\\right) & 1.0 \\operatorname{sin}\\left(\\theta_{1}\\right) & l_{2} \\operatorname{cos}\\left(\\theta_{1}\\right) \\operatorname{cos}\\left(\\theta_{2}\\right)\\\\\\operatorname{sin}\\left(\\theta_{1}\\right) \\operatorname{cos}\\left(\\theta_{2}\\right) & - \\operatorname{sin}\\left(\\theta_{1}\\right) \\operatorname{sin}\\left(\\theta_{2}\\right) & - 1.0 \\operatorname{cos}\\left(\\theta_{1}\\right) & l_{2} \\operatorname{sin}\\left(\\theta_{1}\\right) \\operatorname{cos}\\left(\\theta_{2}\\right)\\\\1.0 \\operatorname{sin}\\left(\\theta_{2}\\right) & 1.0 \\operatorname{cos}\\left(\\theta_{2}\\right) & 0 & l_{1} + 1.0 l_{2} \\operatorname{sin}\\left(\\theta_{2}\\right)\\\\0 & 0 & 0 & 1\\end{matrix}\\right]$"
      ],
      "text/plain": [
       "Matrix([\n",
       "[cos(theta1)*cos(theta2), -sin(theta2)*cos(theta1),  1.0*sin(theta1), l2*cos(theta1)*cos(theta2)],\n",
       "[sin(theta1)*cos(theta2), -sin(theta1)*sin(theta2), -1.0*cos(theta1), l2*sin(theta1)*cos(theta2)],\n",
       "[        1.0*sin(theta2),          1.0*cos(theta2),                0,    l1 + 1.0*l2*sin(theta2)],\n",
       "[                      0,                        0,                0,                          1]])"
      ]
     },
     "execution_count": 11,
     "metadata": {},
     "output_type": "execute_result"
    }
   ],
   "source": [
    "mbee= sp.Matrix([[sp.trigsimp(m03[0,0].simplify()), sp.trigsimp(m03[0,1].simplify()), sp.trigsimp(m03[0,2].simplify()),sp.trigsimp(m03[0,3].simplify())],\n",
    "                 [sp.trigsimp(m03[1,0].simplify()), sp.trigsimp(m03[1,1].simplify()), sp.trigsimp(m03[1,2].simplify()),sp.trigsimp(m03[1,3].simplify())],\n",
    "                 [m03[2,0].simplify(), m03[2,1].simplify(), m03[2,2].simplify(),m03[2,3].simplify()],\n",
    "                 [m03[3,0].simplify(), m03[3,1].simplify(), m03[3,2].simplify(),m03[3,3].simplify()]])\n",
    "\n",
    "mbee"
   ]
  },
  {
   "cell_type": "code",
   "execution_count": 12,
   "metadata": {},
   "outputs": [],
   "source": [
    "x,y,z = 10,0,10"
   ]
  },
  {
   "cell_type": "code",
   "execution_count": 13,
   "metadata": {},
   "outputs": [
    {
     "data": {
      "text/latex": [
       "$\\displaystyle 10 \\operatorname{cos}\\left(\\theta_{1}\\right) \\operatorname{cos}\\left(\\theta_{2}\\right) - 10$"
      ],
      "text/plain": [
       "10*cos(theta1)*cos(theta2) - 10"
      ]
     },
     "execution_count": 13,
     "metadata": {},
     "output_type": "execute_result"
    }
   ],
   "source": [
    "eq1 = (10*cos(theta1)*cos(theta2)) - x\n",
    "eq1"
   ]
  },
  {
   "cell_type": "code",
   "execution_count": 14,
   "metadata": {},
   "outputs": [
    {
     "data": {
      "text/latex": [
       "$\\displaystyle 10 \\operatorname{sin}\\left(\\theta_{1}\\right) \\operatorname{cos}\\left(\\theta_{2}\\right)$"
      ],
      "text/plain": [
       "10*sin(theta1)*cos(theta2)"
      ]
     },
     "execution_count": 14,
     "metadata": {},
     "output_type": "execute_result"
    }
   ],
   "source": [
    "eq2 = 10*sin(theta1)*cos(theta2) - y\n",
    "eq2"
   ]
  },
  {
   "cell_type": "code",
   "execution_count": 15,
   "metadata": {},
   "outputs": [
    {
     "data": {
      "text/latex": [
       "$\\displaystyle 10 \\operatorname{sin}\\left(\\theta_{2}\\right)$"
      ],
      "text/plain": [
       "10*sin(theta2)"
      ]
     },
     "execution_count": 15,
     "metadata": {},
     "output_type": "execute_result"
    }
   ],
   "source": [
    "eq3 = 10+10*sin(theta2) - z\n",
    "eq3"
   ]
  },
  {
   "cell_type": "code",
   "execution_count": 22,
   "metadata": {},
   "outputs": [
    {
     "name": "stdout",
     "output_type": "stream",
     "text": [
      "Matrix([[-5.07578460685064e-33], [1.23633911391520e-32]])\n"
     ]
    }
   ],
   "source": [
    "q=nsolve((eq1,eq2,eq3),(theta1,theta2),(1,1))\n",
    "print(q)"
   ]
  },
  {
   "cell_type": "code",
   "execution_count": 20,
   "metadata": {},
   "outputs": [
    {
     "data": {
      "text/latex": [
       "$\\displaystyle \\left[\\begin{matrix}-9.547 \\cdot 10^{-28}\\\\4.059 \\cdot 10^{-29}\\end{matrix}\\right]$"
      ],
      "text/plain": [
       "Matrix([\n",
       "[-9.547e-28],\n",
       "[ 4.059e-29]])"
      ]
     },
     "execution_count": 20,
     "metadata": {},
     "output_type": "execute_result"
    }
   ],
   "source": [
    "q[0]=q[0]*180/pi\n",
    "q[1]=q[1]*180/pi\n",
    "N(q,4)"
   ]
  },
  {
   "cell_type": "code",
   "execution_count": 23,
   "metadata": {},
   "outputs": [
    {
     "data": {
      "text/latex": [
       "$\\displaystyle \\left[\\begin{matrix}1.0 & -1.236 \\cdot 10^{-32} & -5.076 \\cdot 10^{-33} & 10.0\\\\-5.076 \\cdot 10^{-33} & 6.275 \\cdot 10^{-65} & -1.0 & -5.076 \\cdot 10^{-32}\\\\1.236 \\cdot 10^{-32} & 1.0 & 0 & 10.0\\\\0 & 0 & 0 & 1.0\\end{matrix}\\right]$"
      ],
      "text/plain": [
       "Matrix([\n",
       "[       1.0, -1.236e-32, -5.076e-33,       10.0],\n",
       "[-5.076e-33,  6.275e-65,       -1.0, -5.076e-32],\n",
       "[ 1.236e-32,        1.0,          0,       10.0],\n",
       "[         0,          0,          0,        1.0]])"
      ]
     },
     "execution_count": 23,
     "metadata": {},
     "output_type": "execute_result"
    }
   ],
   "source": [
    "mbee= sp.Matrix([[sp.trigsimp(m03[0,0].simplify()), sp.trigsimp(m03[0,1].simplify()), sp.trigsimp(m03[0,2].simplify()),sp.trigsimp(m03[0,3].simplify())],\n",
    "                 [sp.trigsimp(m03[1,0].simplify()), sp.trigsimp(m03[1,1].simplify()), sp.trigsimp(m03[1,2].simplify()),sp.trigsimp(m03[1,3].simplify())],\n",
    "                 [m03[2,0].simplify(), m03[2,1].simplify(), m03[2,2].simplify(),m03[2,3].simplify()],\n",
    "                 [m03[3,0].simplify(), m03[3,1].simplify(), m03[3,2].simplify(),m03[3,3].simplify()]])\n",
    "\n",
    "mbee = mbee.subs({ theta1:q[0], theta2:q[1], l1:10,l2:10})\n",
    "N(mbee,4)"
   ]
  },
  {
   "cell_type": "code",
   "execution_count": null,
   "metadata": {},
   "outputs": [],
   "source": []
  },
  {
   "cell_type": "code",
   "execution_count": null,
   "metadata": {},
   "outputs": [],
   "source": []
  }
 ],
 "metadata": {
  "kernelspec": {
   "display_name": "Python 3",
   "language": "python",
   "name": "python3"
  },
  "language_info": {
   "codemirror_mode": {
    "name": "ipython",
    "version": 3
   },
   "file_extension": ".py",
   "mimetype": "text/x-python",
   "name": "python",
   "nbconvert_exporter": "python",
   "pygments_lexer": "ipython3",
   "version": "3.7.4"
  }
 },
 "nbformat": 4,
 "nbformat_minor": 2
}
